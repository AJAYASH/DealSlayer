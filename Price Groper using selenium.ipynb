{
 "cells": [
  {
   "cell_type": "markdown",
   "metadata": {},
   "source": [
    "PRICE GROPER WEB API USING SELENIUM PYTHON\n",
    "-CONTRIBUTORS:\n",
    "    C21134-Hrushikesh Zore\n",
    "    C21005-Ajay Ash\n",
    "    C21076-Aditya Narkar\n",
    "    C21044-Omkar jadhav"
   ]
  },
  {
   "cell_type": "code",
   "execution_count": 1,
   "metadata": {},
   "outputs": [
    {
     "name": "stdout",
     "output_type": "stream",
     "text": [
      "Requirement already satisfied: selenium in c:\\users\\dell\\appdata\\local\\programs\\python\\python39\\lib\\site-packages (4.1.3)\n",
      "Requirement already satisfied: urllib3[secure,socks]~=1.26 in c:\\users\\dell\\appdata\\local\\programs\\python\\python39\\lib\\site-packages (from selenium) (1.26.8)\n",
      "Requirement already satisfied: trio-websocket~=0.9 in c:\\users\\dell\\appdata\\local\\programs\\python\\python39\\lib\\site-packages (from selenium) (0.9.2)\n",
      "Requirement already satisfied: trio~=0.17 in c:\\users\\dell\\appdata\\local\\programs\\python\\python39\\lib\\site-packages (from selenium) (0.20.0)\n",
      "Requirement already satisfied: certifi; extra == \"secure\" in c:\\users\\dell\\appdata\\local\\programs\\python\\python39\\lib\\site-packages (from urllib3[secure,socks]~=1.26->selenium) (2021.10.8)\n",
      "Requirement already satisfied: pyOpenSSL>=0.14; extra == \"secure\" in c:\\users\\dell\\appdata\\local\\programs\\python\\python39\\lib\\site-packages (from urllib3[secure,socks]~=1.26->selenium) (22.0.0)\n",
      "Requirement already satisfied: idna>=2.0.0; extra == \"secure\" in c:\\users\\dell\\appdata\\local\\programs\\python\\python39\\lib\\site-packages (from urllib3[secure,socks]~=1.26->selenium) (3.3)\n",
      "Requirement already satisfied: cryptography>=1.3.4; extra == \"secure\" in c:\\users\\dell\\appdata\\local\\programs\\python\\python39\\lib\\site-packages (from urllib3[secure,socks]~=1.26->selenium) (37.0.1)\n",
      "Requirement already satisfied: PySocks!=1.5.7,<2.0,>=1.5.6; extra == \"socks\" in c:\\users\\dell\\appdata\\local\\programs\\python\\python39\\lib\\site-packages (from urllib3[secure,socks]~=1.26->selenium) (1.7.1)\n",
      "Requirement already satisfied: async-generator>=1.10 in c:\\users\\dell\\appdata\\local\\programs\\python\\python39\\lib\\site-packages (from trio-websocket~=0.9->selenium) (1.10)\n",
      "Requirement already satisfied: wsproto>=0.14 in c:\\users\\dell\\appdata\\local\\programs\\python\\python39\\lib\\site-packages (from trio-websocket~=0.9->selenium) (1.1.0)\n",
      "Requirement already satisfied: sniffio in c:\\users\\dell\\appdata\\local\\programs\\python\\python39\\lib\\site-packages (from trio~=0.17->selenium) (1.2.0)\n",
      "Requirement already satisfied: sortedcontainers in c:\\users\\dell\\appdata\\local\\programs\\python\\python39\\lib\\site-packages (from trio~=0.17->selenium) (2.4.0)\n",
      "Requirement already satisfied: cffi>=1.14; os_name == \"nt\" and implementation_name != \"pypy\" in c:\\users\\dell\\appdata\\local\\programs\\python\\python39\\lib\\site-packages (from trio~=0.17->selenium) (1.15.0)\n",
      "Requirement already satisfied: outcome in c:\\users\\dell\\appdata\\local\\programs\\python\\python39\\lib\\site-packages (from trio~=0.17->selenium) (1.1.0)\n",
      "Requirement already satisfied: attrs>=19.2.0 in c:\\users\\dell\\appdata\\local\\programs\\python\\python39\\lib\\site-packages (from trio~=0.17->selenium) (21.4.0)\n",
      "Requirement already satisfied: h11<1,>=0.9.0 in c:\\users\\dell\\appdata\\local\\programs\\python\\python39\\lib\\site-packages (from wsproto>=0.14->trio-websocket~=0.9->selenium) (0.13.0)\n",
      "Requirement already satisfied: pycparser in c:\\users\\dell\\appdata\\local\\programs\\python\\python39\\lib\\site-packages (from cffi>=1.14; os_name == \"nt\" and implementation_name != \"pypy\"->trio~=0.17->selenium) (2.21)\n",
      "Note: you may need to restart the kernel to use updated packages.\n"
     ]
    },
    {
     "name": "stderr",
     "output_type": "stream",
     "text": [
      "WARNING: You are using pip version 20.2.3; however, version 22.0.4 is available.\n",
      "You should consider upgrading via the 'C:\\Users\\DELL\\AppData\\Local\\Programs\\Python\\Python39\\python.exe -m pip install --upgrade pip' command.\n"
     ]
    }
   ],
   "source": [
    "pip install selenium"
   ]
  },
  {
   "cell_type": "code",
   "execution_count": 2,
   "metadata": {},
   "outputs": [
    {
     "name": "stdout",
     "output_type": "stream",
     "text": [
      "Note: you may need to restart the kernel to use updated packages.\n"
     ]
    },
    {
     "name": "stderr",
     "output_type": "stream",
     "text": [
      "ERROR: Could not find a version that satisfies the requirement webdriver (from versions: none)\n",
      "ERROR: No matching distribution found for webdriver\n",
      "WARNING: You are using pip version 20.2.3; however, version 22.0.4 is available.\n",
      "You should consider upgrading via the 'C:\\Users\\DELL\\AppData\\Local\\Programs\\Python\\Python39\\python.exe -m pip install --upgrade pip' command.\n"
     ]
    }
   ],
   "source": [
    "pip install webdriver"
   ]
  },
  {
   "cell_type": "code",
   "execution_count": 3,
   "metadata": {},
   "outputs": [
    {
     "name": "stdout",
     "output_type": "stream",
     "text": [
      "Note: you may need to restart the kernel to use updated packages.\n"
     ]
    },
    {
     "name": "stderr",
     "output_type": "stream",
     "text": [
      "ERROR: Could not find a version that satisfies the requirement web_driver (from versions: none)\n",
      "ERROR: No matching distribution found for web_driver\n",
      "WARNING: You are using pip version 20.2.3; however, version 22.0.4 is available.\n",
      "You should consider upgrading via the 'C:\\Users\\DELL\\AppData\\Local\\Programs\\Python\\Python39\\python.exe -m pip install --upgrade pip' command.\n"
     ]
    }
   ],
   "source": [
    "pip install web_driver"
   ]
  },
  {
   "cell_type": "code",
   "execution_count": 15,
   "metadata": {},
   "outputs": [
    {
     "name": "stderr",
     "output_type": "stream",
     "text": [
      "\n",
      "\n",
      "====== WebDriver manager ======\n",
      "Current google-chrome version is 100.0.4896\n",
      "Get LATEST chromedriver version for 100.0.4896 google-chrome\n",
      "Driver [C:\\Users\\DELL\\.wdm\\drivers\\chromedriver\\win32\\100.0.4896.60\\chromedriver.exe] found in cache\n"
     ]
    },
    {
     "name": "stdout",
     "output_type": "stream",
     "text": [
      "*************************************************************************** \n",
      "\n",
      "                     Starting Program, Please wait ..... \n",
      "\n",
      "Connecting to Flipkart\n"
     ]
    },
    {
     "name": "stderr",
     "output_type": "stream",
     "text": [
      "C:\\Users\\DELL\\AppData\\Local\\Temp\\ipykernel_11556\\3664866715.py:27: DeprecationWarning: find_element_by_xpath is deprecated. Please use find_element(by=By.XPATH, value=xpath) instead\n",
      "  f_price = wd.find_element_by_xpath(\"//div[@class='_30jeq3 _16Jk6d']\")\n",
      "C:\\Users\\DELL\\AppData\\Local\\Temp\\ipykernel_11556\\3664866715.py:29: DeprecationWarning: find_element_by_xpath is deprecated. Please use find_element(by=By.XPATH, value=xpath) instead\n",
      "  pr_name = wd.find_element_by_xpath(\"//span[@class='B_NuCI']\")\n"
     ]
    },
    {
     "name": "stdout",
     "output_type": "stream",
     "text": [
      "24,998\n",
      " ---> Successfully retrieved the price from Flipkart \n",
      "\n",
      "Connecting to Amazon\n"
     ]
    },
    {
     "name": "stderr",
     "output_type": "stream",
     "text": [
      "C:\\Users\\DELL\\AppData\\Local\\Temp\\ipykernel_11556\\3664866715.py:41: DeprecationWarning: find_element_by_xpath is deprecated. Please use find_element(by=By.XPATH, value=xpath) instead\n",
      "  a_price = wd.find_element_by_xpath(\"//span[@class='a-price a-text-price a-size-medium apexPriceToPay']\")\n"
     ]
    },
    {
     "name": "stdout",
     "output_type": "stream",
     "text": [
      "24,999.\n",
      " ---> Successfully retrieved the price from Amazon \n",
      "\n",
      "Connecting to Official website of One Plus India\n"
     ]
    },
    {
     "name": "stderr",
     "output_type": "stream",
     "text": [
      "C:\\Users\\DELL\\AppData\\Local\\Temp\\ipykernel_11556\\3664866715.py:50: DeprecationWarning: find_element_by_xpath is deprecated. Please use find_element(by=By.XPATH, value=xpath) instead\n",
      "  c_price = wd.find_element_by_xpath(\"//span[@class='price font-headline-1']\")\n"
     ]
    },
    {
     "name": "stdout",
     "output_type": "stream",
     "text": [
      "23,999\n",
      " ---> Successfully retrieved the price from Croma\n",
      "\n",
      "#------------------------------------------------------------------------#\n",
      "Price for [OnePlus Nord CE 2 5G (Gray Mirror, 128 GB)  (8 GB RAM)] on all websites, Prices are in INR \n",
      "\n",
      "Price available at Flipkart is: 24,998\n",
      "  Price available at Amazon is: 24,999.\n",
      "   Price available at One Plus india is: 23,999\n"
     ]
    }
   ],
   "source": [
    "from selenium import webdriver\n",
    "from selenium.webdriver.common.keys import Keys\n",
    "from selenium.webdriver.chrome.service import Service\n",
    "from webdriver_manager.chrome import ChromeDriverManager\n",
    "import time\n",
    "from pathlib import Path\n",
    "\n",
    "source1 = \"https://www.flipkart.com/oneplus-nord-ce-2-5g-gray-mirror-128-gb/p/itm2a9883679c57c?pid=MOBGDHWMFQBKFV5F&lid=LSTMOBGDHWMFQBKFV5FHGBQ2A&marketplace=FLIPKART&q=one+plus+nord+2+mobile&store=tyy%2F4io&srno=s_1_1&otracker=AS_QueryStore_OrganicAutoSuggest_1_6_na_na_na&otracker1=AS_QueryStore_OrganicAutoSuggest_1_6_na_na_na&fm=organic&iid=08affe02-a057-4870-b2c0-d03a24efe45f.MOBGDHWMFQBKFV5F.SEARCH&ppt=hp&ppn=homepage&ssid=4m8ih7zxuo0000001651175193622&qH=7ab15e942adafaa7\"\n",
    "source2 = \"https://www.amazon.in/OnePlus-Nord-Bahamas-128GB-Storage/dp/B09RG5R5FG/ref=sr_1_1?keywords=oneplus%2Bnord%2Bce%2B2%2B5g&qid=1651175179&sprefix=one%2Bplus%2Bnord%2Caps%2C344&sr=8-1&th=1\"\n",
    "source3 = \"https://www.oneplus.in/oneplus-nord-ce-2-5g?utm_source=google_search&utm_medium=search_cpc&utm_campaign=OnePlus_Nord_RLSA&utm_term=one%20olus&gclid=CjwKCAjw9qiTBhBbEiwAp-GE0RC9mLeUv0SZLRSN7hs61_3u3U7Y-ylfMbU_TQbv02SPnnmxXEAAVhoCl7kQAvD_BwE&gclsrc=aw.ds\"\n",
    "\n",
    "# create a webdriver object for chrome-option and configure\n",
    "wait_imp = 10\n",
    "CO = webdriver.ChromeOptions()\n",
    "CO.add_experimental_option('useAutomationExtension', False)\n",
    "CO.add_argument('--ignore-certificate-errors')\n",
    "CO.add_argument('--start-maximized')\n",
    "CO.binary_location=\"C:\\Program Files (x86)\\Google\\Chrome\\Application\\chrome.exe\"\n",
    "wd = webdriver.Chrome(service=Service(ChromeDriverManager().install()), options=CO)\n",
    "print (\"*************************************************************************** \\n\")\n",
    "print(\"                     Starting Program, Please wait ..... \\n\")\n",
    "\n",
    "print (\"Connecting to Flipkart\")\n",
    "wd.get(source1)\n",
    "wd.implicitly_wait(wait_imp)\n",
    "#Issue in XPATH.............................................................\n",
    "f_price = wd.find_element_by_xpath(\"//div[@class='_30jeq3 _16Jk6d']\")\n",
    "#//span[@aria-hidden='true'][contains(text(),'₹54,900.00')]\n",
    "pr_name = wd.find_element_by_xpath(\"//span[@class='B_NuCI']\")\n",
    "product = pr_name.text\n",
    "r_price = f_price.text\n",
    "print (r_price[1:8])\n",
    "print (\" ---> Successfully retrieved the price from Flipkart \\n\")\n",
    "time.sleep(2)\n",
    "\n",
    "\n",
    "print(\"Connecting to Amazon\")\n",
    "wd.get(source2)\n",
    "wd.implicitly_wait(wait_imp)\n",
    "## a_price = wd.find_element_by_id(\"priceblock_ourprice\")\n",
    "a_price = wd.find_element_by_xpath(\"//span[@class='a-price a-text-price a-size-medium apexPriceToPay']\")\n",
    "raw_p = a_price.text\n",
    "print (raw_p[1:8])\n",
    "print (\" ---> Successfully retrieved the price from Amazon \\n\")\n",
    "time.sleep(2)\n",
    "\n",
    "print(\"Connecting to Official website of One Plus India\")\n",
    "wd.get(source3)\n",
    "wd.implicitly_wait(wait_imp)\n",
    "c_price = wd.find_element_by_xpath(\"//span[@class='price font-headline-1']\")\n",
    "raw_c = c_price.text\n",
    "print (raw_c[1:8])\n",
    "print (\" ---> Successfully retrieved the price from Croma\\n\")\n",
    "time.sleep(2)\n",
    "\n",
    "# Final display\n",
    "print (\"#------------------------------------------------------------------------#\")\n",
    "print (\"Price for [{}] on all websites, Prices are in INR \\n\".format(product))\n",
    "print(\"Price available at Flipkart is: \"+r_price[1:8])\n",
    "print(\"  Price available at Amazon is: \"+raw_p[1:8])\n",
    "print(\"   Price available at One Plus india is: \"+raw_c[1:8])"
   ]
  }
 ],
 "metadata": {
  "interpreter": {
   "hash": "0ac516125b3ee16d4eaa41f008fade7bad50b808bd1b6d74d2e8ae0015ba9066"
  },
  "kernelspec": {
   "display_name": "Python 3.9.0 64-bit",
   "language": "python",
   "name": "python3"
  },
  "language_info": {
   "codemirror_mode": {
    "name": "ipython",
    "version": 3
   },
   "file_extension": ".py",
   "mimetype": "text/x-python",
   "name": "python",
   "nbconvert_exporter": "python",
   "pygments_lexer": "ipython3",
   "version": "3.9.0"
  },
  "orig_nbformat": 4
 },
 "nbformat": 4,
 "nbformat_minor": 2
}
